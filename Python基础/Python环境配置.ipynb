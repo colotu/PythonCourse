{
 "cells": [
  {
   "cell_type": "markdown",
   "metadata": {},
   "source": [
    "# Python环境安装\n",
    "\n",
    "目前Python有两个大版本，分别是 2.X 和 3.X ，我们的教程基于最新版本 3.6.x 你可以通过终端窗口输入 \"python\" 命令来查看本地是否已经安装Python以及Python的安装版本。Windows操作系统进入终端方法：win键+R 输入cmd即可进入Windows的终端（Win键是印有Windows图标那个按键或称徽标键，linux中又称super键）。\n",
    "Windows操作系统默认是没有安装Python的，我们需要手动安装，安装包我们可以去官网下载，Python最新源码，二进制文档，新闻资讯等可以在Python的官网查看到。\n",
    "> python官网：https://www.python.org/\n",
    "\n",
    "**Windows下Python安装**\n",
    "以下为在 Window 平台上安装 Python 的简单步骤：\n",
    "\n",
    "[python的安装](https://jingyan.baidu.com/article/25648fc19f61829191fd00d4.html)\n",
    "\n",
    "**Linux 下Python3的安装**\n",
    "Linux/Unix系统默认是自带有Python2的，如果你是新手，又想换一个操作系统推荐你使用Linux Ubuntu操作系统，他对用户比较友好，安装软件包相对其他Linux系列操作系统比较容易并且系统自带有Python3.5直接使用即可。 如果你用的是Linux ReadHat系列可以参考下列教程安装Python3：\n",
    "\n",
    "[CentOS安装Python3](http://www.cnblogs.com/sungeng/p/8253579.html)\n",
    "\n",
    "**Anaconda安装使用**\n",
    "Python的一大特色之一，便是具有强大的标准库、第三方库以及自定义模块。目前官网的存储库里约有十二万八千多的软件包，要扩展Python的功能或者说不重复造轮子直接使用封装好的包，避免不了的就是手动安装包了。其中比较头疼的就是包管理和Python不同版本的问题，特别是当你使用Windows的时候。为了解决这些问题，有不少发行版的Python，比如WinPython、Anaconda等，这些发行版将python和许多常用的package打包，方便用户使用而Anaconda是我比较推荐的一个Python的发行版本，其包含了conda、Python等180多个科学包及其依赖项。此外，还有virtualenv、pyenv等工具管理虚拟环境。因为包含了大量的科学包，Anaconda 的下载文件比较大（约 500 MB），如果只需要某些包，或者需要节省带宽或存储空间，也可以使用Miniconda这个较小的发行版（仅包含conda和 Python）。\n",
    "\n",
    "[Anaconda下载地址](https://www.anaconda.com/distribution/)\n",
    "\n",
    "首先去官方网站下载Anaconda，网站可以直接检测出当前电脑的操作系统，并 直以此提供合适安装包，Anaconda官网提供了3.x和2.7两个版本，我们下载对应Python3.6的版本。安装过程可参考下列文档：\n",
    "\n",
    "[Windows 安装 Anaconda3 详细过程](https://blog.csdn.net/u012318074/article/details/77075209)"
   ]
  },
  {
   "cell_type": "code",
   "execution_count": null,
   "metadata": {},
   "outputs": [],
   "source": []
  }
 ],
 "metadata": {
  "kernelspec": {
   "display_name": "Python 3",
   "language": "python",
   "name": "python3"
  },
  "language_info": {
   "codemirror_mode": {
    "name": "ipython",
    "version": 3
   },
   "file_extension": ".py",
   "mimetype": "text/x-python",
   "name": "python",
   "nbconvert_exporter": "python",
   "pygments_lexer": "ipython3",
   "version": "3.7.0"
  }
 },
 "nbformat": 4,
 "nbformat_minor": 2
}
